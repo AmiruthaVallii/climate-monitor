{
 "cells": [
  {
   "cell_type": "code",
   "execution_count": 2,
   "id": "2c35130b",
   "metadata": {},
   "outputs": [],
   "source": [
    "import pandas as pd"
   ]
  },
  {
   "cell_type": "code",
   "execution_count": 3,
   "id": "41e26b65",
   "metadata": {},
   "outputs": [
    {
     "data": {
      "text/html": [
       "<div>\n",
       "<style scoped>\n",
       "    .dataframe tbody tr th:only-of-type {\n",
       "        vertical-align: middle;\n",
       "    }\n",
       "\n",
       "    .dataframe tbody tr th {\n",
       "        vertical-align: top;\n",
       "    }\n",
       "\n",
       "    .dataframe thead th {\n",
       "        text-align: right;\n",
       "    }\n",
       "</style>\n",
       "<table border=\"1\" class=\"dataframe\">\n",
       "  <thead>\n",
       "    <tr style=\"text-align: right;\">\n",
       "      <th></th>\n",
       "      <th>DATE</th>\n",
       "      <th>AREA</th>\n",
       "      <th>CODE</th>\n",
       "      <th>WARNING / ALERT AREA NAME</th>\n",
       "      <th>TYPE</th>\n",
       "    </tr>\n",
       "  </thead>\n",
       "  <tbody>\n",
       "    <tr>\n",
       "      <th>0</th>\n",
       "      <td>2006-01-31 13:55:34</td>\n",
       "      <td>SW - Devon</td>\n",
       "      <td>113WACT2a</td>\n",
       "      <td>Devon Coast (North)</td>\n",
       "      <td>Flood Watch</td>\n",
       "    </tr>\n",
       "    <tr>\n",
       "      <th>1</th>\n",
       "      <td>2006-01-31 16:33:10</td>\n",
       "      <td>SW - North Wessex</td>\n",
       "      <td>112WACTAVN</td>\n",
       "      <td>Porlock to Avonmouth</td>\n",
       "      <td>Flood Watch</td>\n",
       "    </tr>\n",
       "    <tr>\n",
       "      <th>2</th>\n",
       "      <td>2006-02-08 11:19:45</td>\n",
       "      <td>ANG - Eastern</td>\n",
       "      <td>054WATBT1</td>\n",
       "      <td>Tidal Rivers Bure, Ant and Thurne</td>\n",
       "      <td>Flood Watch</td>\n",
       "    </tr>\n",
       "    <tr>\n",
       "      <th>3</th>\n",
       "      <td>2006-02-08 11:25:26</td>\n",
       "      <td>ANG - Eastern</td>\n",
       "      <td>054WATBT2</td>\n",
       "      <td>Tidal River Yare</td>\n",
       "      <td>Flood Watch</td>\n",
       "    </tr>\n",
       "    <tr>\n",
       "      <th>4</th>\n",
       "      <td>2006-02-08 11:32:20</td>\n",
       "      <td>ANG - Eastern</td>\n",
       "      <td>054WATBT3</td>\n",
       "      <td>Tidal River Waveney</td>\n",
       "      <td>Flood Watch</td>\n",
       "    </tr>\n",
       "  </tbody>\n",
       "</table>\n",
       "</div>"
      ],
      "text/plain": [
       "                 DATE               AREA        CODE  \\\n",
       "0 2006-01-31 13:55:34         SW - Devon   113WACT2a   \n",
       "1 2006-01-31 16:33:10  SW - North Wessex  112WACTAVN   \n",
       "2 2006-02-08 11:19:45      ANG - Eastern   054WATBT1   \n",
       "3 2006-02-08 11:25:26      ANG - Eastern   054WATBT2   \n",
       "4 2006-02-08 11:32:20      ANG - Eastern   054WATBT3   \n",
       "\n",
       "           WARNING / ALERT AREA NAME         TYPE  \n",
       "0                Devon Coast (North)  Flood Watch  \n",
       "1               Porlock to Avonmouth  Flood Watch  \n",
       "2  Tidal Rivers Bure, Ant and Thurne  Flood Watch  \n",
       "3                   Tidal River Yare  Flood Watch  \n",
       "4                Tidal River Waveney  Flood Watch  "
      ]
     },
     "execution_count": 3,
     "metadata": {},
     "output_type": "execute_result"
    }
   ],
   "source": [
    "df = pd.read_excel(\"historical_flood_warnings_data.ods\")\n",
    "\n",
    "df.head()"
   ]
  }
 ],
 "metadata": {
  "kernelspec": {
   "display_name": ".venv",
   "language": "python",
   "name": "python3"
  },
  "language_info": {
   "codemirror_mode": {
    "name": "ipython",
    "version": 3
   },
   "file_extension": ".py",
   "mimetype": "text/x-python",
   "name": "python",
   "nbconvert_exporter": "python",
   "pygments_lexer": "ipython3",
   "version": "3.13.5"
  }
 },
 "nbformat": 4,
 "nbformat_minor": 5
}
